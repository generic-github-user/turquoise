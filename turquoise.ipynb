{
 "cells": [
  {
   "cell_type": "code",
   "execution_count": 7,
   "id": "5464d712-5a0d-4244-94f5-6ef5e9f96d24",
   "metadata": {},
   "outputs": [],
   "source": [
    "import math\n",
    "import string\n",
    "\n",
    "tests = \"\"\"\n",
    "3:20\n",
    "\"\"\"\n",
    "\n",
    "class Range:\n",
    "    def __init__(self, start, stop, step=1):\n",
    "        self.start = start\n",
    "        self.stop = stop\n",
    "        self.step = step\n",
    "        \n",
    "    def evaluate(self):\n",
    "        return list(range(self.start, self.stop+1, self.step))\n",
    "\n",
    "class Program:\n",
    "    def __init__(self, source):\n",
    "        self.source = source\n",
    "        self.tree = []\n",
    "        self.parse()\n",
    "        \n",
    "    def parse(self):\n",
    "        statements = self.source.replace('|', '\\n').split('\\n')\n",
    "        for s in statements:\n",
    "            statement_parse = []\n",
    "                \n",
    "        \n",
    "M = Program(tests)"
   ]
  }
 ],
 "metadata": {
  "kernelspec": {
   "display_name": "Python 3",
   "language": "python",
   "name": "python3"
  },
  "language_info": {
   "codemirror_mode": {
    "name": "ipython",
    "version": 3
   },
   "file_extension": ".py",
   "mimetype": "text/x-python",
   "name": "python",
   "nbconvert_exporter": "python",
   "pygments_lexer": "ipython3",
   "version": "3.9.4"
  }
 },
 "nbformat": 4,
 "nbformat_minor": 5
}
