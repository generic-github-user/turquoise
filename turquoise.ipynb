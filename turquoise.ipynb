{
 "cells": [
  {
   "cell_type": "markdown",
   "id": "73fd9278-6081-46ac-a7bf-e612da4d829d",
   "metadata": {
    "tags": []
   },
   "source": [
    "# Turquoise"
   ]
  },
  {
   "cell_type": "markdown",
   "id": "0d31a5c7-edfd-47a7-8426-efd8e7fba1f4",
   "metadata": {},
   "source": [
    "## Features"
   ]
  },
  {
   "cell_type": "markdown",
   "id": "c784896d-3a44-4112-8600-cb0d480a5aa6",
   "metadata": {},
   "source": [
    "### Brevity\n",
    "Turquoise draws on the object-oriented principles of languages like Python and JavaScript, but emphasizes concision to accelerate the development workflow.\n",
    "\n",
    "### Flexibility\n",
    "Turquoise's data structures and operators are structured to be infinitely reconfigurable to the needs of your task.\n",
    "\n",
    "### Efficiency\n",
    "A core part of Turquoise's design philosophy revolves around making the planning -> development -> feedback loop as seamless and pain-free as possible. The language is dynamic and meant to be interacted with as a key part of the development process.\n",
    "\n",
    "### Interoperability\n",
    "This is currently a (very) new and feature-limited programming language, so it is intended to work cohesively with other technologies, libraries, and modules while maintaining a reasonable dependency scope for the language's core features. Eventually, Turquoise will be able to run arbitrary Python code on representations of its data structures and likewise, snippets of Turquoise code will be able to be executed with a Python library. Transpiling (transcompiling) is also being explored as a way to bridge the gap between Turquoise's methodology and Python's massive ecosystem of modules and libraries.\n",
    "\n",
    "### Intuitiveness\n",
    "Everything in the language should, to a reasonable extent, do what you expect it to. When confusion arises, efficient strategies for clarifying the language's behavior will be available.\n",
    "\n",
    "### Consistency\n",
    "Exceptions to rules and principles should be minimized wherever possible in order to make the language's basic concepts universally applicable."
   ]
  },
  {
   "cell_type": "markdown",
   "id": "b601eb49-a13a-4194-8fe9-73f19abd813e",
   "metadata": {},
   "source": [
    "## Imports"
   ]
  },
  {
   "cell_type": "markdown",
   "id": "b6e02aac-d23a-4c6d-81dd-1c50f1ae4519",
   "metadata": {},
   "source": [
    "Turquoise is designed to minimize the amount of essential functionality implemented in Python; and thus the number of external libraries included. A few standard modules are used for more convenient implementation of functions that mimic or extend those of Python."
   ]
  },
  {
   "cell_type": "markdown",
   "id": "c3663fb8-b89b-447a-9b1c-e33eb156c428",
   "metadata": {},
   "source": [
    "### General"
   ]
  },
  {
   "cell_type": "code",
   "execution_count": 207,
   "id": "f2f9e59e-7e01-4aa3-b6ca-b748fdee5400",
   "metadata": {},
   "outputs": [],
   "source": [
    "import math\n",
    "import string\n",
    "import operator as ops"
   ]
  },
  {
   "cell_type": "markdown",
   "id": "fc198a5c-d703-4528-b19c-b576608e5b58",
   "metadata": {},
   "source": [
    "### Visualization"
   ]
  },
  {
   "cell_type": "code",
   "execution_count": 208,
   "id": "ec0462f8-6798-44b1-abe8-4d134558cd49",
   "metadata": {},
   "outputs": [],
   "source": [
    "import networkx as nx\n",
    "from pyvis.network import Network\n",
    "import matplotlib.pyplot as plt"
   ]
  },
  {
   "cell_type": "markdown",
   "id": "bfa8fe56-5e71-4fbc-a53d-488ab646d9ff",
   "metadata": {},
   "source": [
    "### Miscellaneous"
   ]
  },
  {
   "cell_type": "code",
   "execution_count": 209,
   "id": "f5b0654a-6579-4f7e-a10a-e013fc92f6b4",
   "metadata": {},
   "outputs": [],
   "source": [
    "import uuid\n",
    "import itertools"
   ]
  },
  {
   "cell_type": "markdown",
   "id": "0acbea79-5cb8-4209-9c9d-3a8c60b134ba",
   "metadata": {},
   "source": [
    "## Range"
   ]
  },
  {
   "cell_type": "markdown",
   "id": "c15dc786-d8a4-4a2e-949c-90b3392cab53",
   "metadata": {},
   "source": [
    "Describes range expressions in Turquoise; these are similar to the Python version, but allow floating-point numbers for the start, stop, and step parameters. The syntax is `start:stop` or `start:stop:step`; if a step is not specified, the default will be 1."
   ]
  },
  {
   "cell_type": "code",
   "execution_count": 210,
   "id": "1e81b9c0-9be7-4a7e-b0b3-0890a5608c97",
   "metadata": {},
   "outputs": [],
   "source": [
    "class Range:\n",
    "    def __init__(self, start, stop=1, step=1):\n",
    "        self.start = start\n",
    "        self.stop = stop\n",
    "        self.step = step\n",
    "        self.value = None\n",
    "        self.result_type = Array\n",
    "        self.report = ['start', 'stop', 'step']\n",
    "        \n",
    "    def evaluate(self):\n",
    "#         self.value = list(range(self.start, self.stop+1, self.step))\n",
    "        values = []\n",
    "        num_steps = round((self.stop-self.start)/self.step)+1\n",
    "        for i in range(num_steps):\n",
    "            values.append(self.start+(self.step*i))\n",
    "        self.value = Array(values)\n",
    "        return self.value"
   ]
  },
  {
   "cell_type": "markdown",
   "id": "9f948d26-0acb-4473-afa3-58651000c830",
   "metadata": {},
   "source": [
    "## Tetration"
   ]
  },
  {
   "cell_type": "code",
   "execution_count": 211,
   "id": "550e4597-6b5e-455a-b42d-e82c4f24e6bd",
   "metadata": {},
   "outputs": [
    {
     "data": {
      "text/plain": [
       "347.6578448566024"
      ]
     },
     "execution_count": 211,
     "metadata": {},
     "output_type": "execute_result"
    }
   ],
   "source": [
    "def tetration(n, m):\n",
    "    r = n\n",
    "#     m must be an integer\n",
    "    m = int(m)\n",
    "#     Repeatedly raise initial value to the previously computed power (e.g., 2 -> 2^2 -> 2^(2^2) -> ...)\n",
    "    for i in range(m):\n",
    "        r = n ** r\n",
    "    return r\n",
    "tetration.info = \"This function handles Turquoise's tetration functionality, which uses the ^^ operator; it is generally impractical due to extremely rapid increases in the function's output as n and m grow, but is included for completeness.\"\n",
    "\n",
    "tetration(1.6, 6)"
   ]
  },
  {
   "cell_type": "markdown",
   "id": "2e03cc38-cec4-4b4c-9ade-0d88ec9cb911",
   "metadata": {},
   "source": [
    "## Expression"
   ]
  },
  {
   "cell_type": "code",
   "execution_count": 212,
   "id": "e4f106a3-5c99-4cc7-a5bc-512504588629",
   "metadata": {},
   "outputs": [
    {
     "data": {
      "text/plain": [
       "'8.0+6.0'"
      ]
     },
     "execution_count": 212,
     "metadata": {},
     "output_type": "execute_result"
    }
   ],
   "source": [
    "class Expression:\n",
    "    def __init__(self, a=None, b=None, op=None):\n",
    "        self.a, self.b = a, b\n",
    "        if type(a) is str:\n",
    "            self.a = float(a)\n",
    "        if type(b) is str:\n",
    "            self.b = float(b)\n",
    "        self.op = op\n",
    "        self.op_list = {\n",
    "            '+': ops.add,\n",
    "            '*': ops.mul,\n",
    "            '-': ops.sub,\n",
    "            '/': ops.truediv,\n",
    "            '//': ops.floordiv,\n",
    "            '**': ops.pow,\n",
    "            '^': ops.pow,\n",
    "            '^^': tetration,\n",
    "            '%': ops.mod,\n",
    "            '!': math.factorial,\n",
    "            '<': ops.lt,\n",
    "            '<=': ops.le,\n",
    "            '>': ops.gt,\n",
    "            '>=': ops.ge,\n",
    "            '==': ops.eq,\n",
    "            '!=': ops.ne,\n",
    "            '&': ops.and_,\n",
    "            '|': ops.or_\n",
    "        }\n",
    "        self.report = ['a', 'op', 'b']\n",
    "        \n",
    "    def evaluate(self):\n",
    "        op_name = self.op_list[self.op]\n",
    "        self.value = op_name(self.a) if self.op in '!' else op_name(self.a, self.b)\n",
    "        return self.value\n",
    "    \n",
    "    def python(self):\n",
    "        strings = map(str, [self.a, self.op, self.b])\n",
    "        return ''.join(strings)\n",
    "    \n",
    "e = Expression('8', '6', '+')\n",
    "e.python()"
   ]
  },
  {
   "cell_type": "markdown",
   "id": "8a1c6d8c-60cc-4cbb-88c8-b628cf963367",
   "metadata": {},
   "source": [
    "## Array"
   ]
  },
  {
   "cell_type": "code",
   "execution_count": 213,
   "id": "294b8451-44cf-41df-97c6-94c1f036520f",
   "metadata": {},
   "outputs": [],
   "source": [
    "class Array:\n",
    "    def __init__(self, terms=[]):\n",
    "        self.data = []\n",
    "        for t in terms:\n",
    "            if type(t) is list:\n",
    "                self.data.append(array(t))\n",
    "            else:\n",
    "                if t not in list(',;'):\n",
    "                    self.data.append(t)\n",
    "    \n",
    "    def apply(self, op, b, data=None):\n",
    "        if not data:\n",
    "            data = self.data\n",
    "#         Make a new array to use as the function output\n",
    "        result = Array()\n",
    "        for d in data:\n",
    "#             Recursively apply operation to nested arrays\n",
    "            if type(d) is Array:\n",
    "                result.append(self.apply(op, b, data=d))\n",
    "#             Apply op directly to primitive types\n",
    "            elif type(d) in [int, float]:\n",
    "                result.append(op(d, b))\n",
    "        return result\n",
    "    \n",
    "    def append(self, x):\n",
    "        self.data.append(x)\n",
    "    \n",
    "#     Define magic operators so that operator module functions can be applied to Array instances (in the same way as native Python objects/primitive types)\n",
    "\n",
    "#     Basic\n",
    "    def __add__(self, b): return self.apply(ops.add, b)\n",
    "    def __mul__(self, b): return self.apply(ops.mul, b)\n",
    "    def __sub__(self, b): return self.apply(ops.sub, b)\n",
    "#     Division\n",
    "    def __truediv__(self, b): return self.apply(ops.truediv, b)\n",
    "    def __floordiv__(self, b): return self.apply(ops.floordiv, b)\n",
    "#     Other\n",
    "    def __pow__(self, b): return self.apply(ops.pow, b)\n",
    "    def __mod__(self, b): return self.apply(ops.mod, b)\n",
    "#     Logical\n",
    "    def __lt__(self, b): return self.apply(ops.lt, b)\n",
    "    def __le__(self, b): return self.apply(ops.le, b)\n",
    "    def __gt__(self, b): return self.apply(ops.gt, b)\n",
    "    def __ge__(self, b): return self.apply(ops.ge, b)\n",
    "#     Equality\n",
    "    def __eq__(self, b): return self.apply(ops.eq, b)\n",
    "    def __ne__(self, b): return self.apply(ops.ne, b)\n",
    "#     Boolean\n",
    "    def __and__(self, b): return self.apply(ops.and_, b)\n",
    "    def __or__(self, b): return self.apply(ops.or_, b)\n",
    "    \n",
    "    def __str__(self):\n",
    "        items = ', '.join(map(str, self.data))\n",
    "        items = '['+items+']'\n",
    "        return items"
   ]
  },
  {
   "cell_type": "code",
   "execution_count": 214,
   "id": "1a6dab51-5cac-4474-8ff0-11be167cbf64",
   "metadata": {},
   "outputs": [],
   "source": [
    "# a = [3,3,3]\n",
    "# b = [4,4,4]\n",
    "# a@b"
   ]
  },
  {
   "cell_type": "code",
   "execution_count": 215,
   "id": "7df15161-a73c-43b9-bb37-39c823961032",
   "metadata": {},
   "outputs": [
    {
     "data": {
      "text/plain": [
       "-6.0"
      ]
     },
     "execution_count": 215,
     "metadata": {},
     "output_type": "execute_result"
    }
   ],
   "source": [
    "'-6'.isnumeric()\n",
    "float('-6')"
   ]
  },
  {
   "cell_type": "code",
   "execution_count": 216,
   "id": "c5e2ff53-8d4b-40e2-8ba9-478f9c241813",
   "metadata": {},
   "outputs": [
    {
     "data": {
      "text/plain": [
       "False"
      ]
     },
     "execution_count": 216,
     "metadata": {},
     "output_type": "execute_result"
    }
   ],
   "source": [
    "bool([])"
   ]
  },
  {
   "cell_type": "markdown",
   "id": "898ccedc-cd8a-4a9d-8c8f-e330a7b7432f",
   "metadata": {},
   "source": [
    "## Block"
   ]
  },
  {
   "cell_type": "code",
   "execution_count": 217,
   "id": "6aee6a18-175b-4f8d-b539-93cf67233d2e",
   "metadata": {},
   "outputs": [],
   "source": [
    "class Block:\n",
    "    def __init__(self, children=None, parsed=None, parser=None, r=None, block_type=None, source=''):\n",
    "#         self.components = components\n",
    "        self.parser = parser\n",
    "        self.dtype = None\n",
    "        self.block_type = block_type\n",
    "        self.type = block_type\n",
    "        self.report = []\n",
    "        self.source = source\n",
    "        self.string = ''\n",
    "        self.id = uuid.uuid4().hex\n",
    "        \n",
    "        self.children = children if children else []\n",
    "        self.c = self.children\n",
    "#         self.children = []\n",
    "        \n",
    "        self.parsed = None\n",
    "        if self.children:\n",
    "            comp_vals = []\n",
    "            for q in self.children:\n",
    "                if type(q) in [Token]:\n",
    "                    q = q.string\n",
    "                    \n",
    "                if type(q) in [Block]:\n",
    "                    if q.like('num'):\n",
    "#                         q = int(q)\n",
    "                        q = q.evaluate()\n",
    "                \n",
    "                if type(q) is str and self.numeric(q):\n",
    "                    q = float(q)\n",
    "                comp_vals.append(q)\n",
    "            self.parsed = parser(*r(comp_vals))\n",
    "            \n",
    "            if not self.source:\n",
    "                self.source = ''.join([b.source for b in self.children])\n",
    "\n",
    "    def update(self):\n",
    "        self.source = ''.join([b.source for b in self.children])\n",
    "        return self\n",
    "\n",
    "    def numeric(self, n):\n",
    "        return all(c in (string.digits + '.-') for c in n)\n",
    "            \n",
    "    def add(self, x):\n",
    "        self.children.append(x)\n",
    "        self.update()\n",
    "#         self.source += x.source\n",
    "    \n",
    "    def evaluate(self):\n",
    "        return self.parsed.evaluate()\n",
    "    \n",
    "    def print(self, level=0, label='Block'):\n",
    "        indent = ' '*2\n",
    "#         print(self.type)\n",
    "#         print(indent + str(self) + '; ' + type(self.parsed).__name__ + '; ' + str(self.type))\n",
    "        print(indent*level + label + ': ' + type(self.parsed).__name__ + '; ' + str(self.type))\n",
    "        for c in self.children:\n",
    "            c.print(level=level+1)\n",
    "#         for k, v in vars(self.parser).items():\n",
    "#             print('{}{}:{}'.format(indent, k, v))\n",
    "        if self.parsed:\n",
    "            for k in self.parsed.report:\n",
    "                v = getattr(self.parsed, k)\n",
    "                print(indent*(level)+'{}{}:{}'.format(indent, k, str(v)))\n",
    "        if self.report:\n",
    "            for k in self.report:\n",
    "                v = getattr(self, k)\n",
    "                print(indent*(level)+'{}{}:{}'.format(indent, k, str(v)))\n",
    "                \n",
    "    def has_tokens(self):\n",
    "        return any(type(b) is Token for b in self.children)\n",
    "    \n",
    "    def like(self, test):\n",
    "        return self.type and (self.type == test or self.type.startswith(test))\n",
    "        \n",
    "    def __getitem__(self, i):\n",
    "        return self.children[i]\n",
    "    \n",
    "    def __setitem__(self, i, j):\n",
    "        self.children[i] = j"
   ]
  },
  {
   "cell_type": "markdown",
   "id": "631aa238-e1d4-4007-b500-5d40aeee54ed",
   "metadata": {},
   "source": [
    "## Token"
   ]
  },
  {
   "cell_type": "code",
   "execution_count": 237,
   "id": "7315c5c5-d9ed-4135-abc1-82b7d41c55cb",
   "metadata": {},
   "outputs": [],
   "source": [
    "class Token(Block):\n",
    "    def __init__(self, string='', token_type=None):\n",
    "        super().__init__()\n",
    "        self.string = string\n",
    "        self.s = self.string\n",
    "        self.token_type = token_type\n",
    "        self.type = self.token_type\n",
    "        self.report = ['string']\n",
    "        if self.string:\n",
    "            self.source = self.string\n",
    "    \n",
    "    def print(self, **kwargs):\n",
    "        print(str(self))\n",
    "    \n",
    "    def evaluate(self):\n",
    "        return self.string\n",
    "    \n",
    "    def __iadd__(self, x):\n",
    "        self.string += x\n",
    "        self.source = self.string\n",
    "        self.s = self.string\n",
    "        return self\n",
    "    \n",
    "    def __str__(self, **kwargs):\n",
    "#         super().print(label='Token', **kwargs)\n",
    "        return 'Token: '+self.string+': '+self.type"
   ]
  },
  {
   "cell_type": "code",
   "execution_count": 219,
   "id": "453290ac-ea8b-4df9-b3d2-6f346e6f0c7f",
   "metadata": {},
   "outputs": [],
   "source": [
    "class Number:\n",
    "    def __init__(self, a):\n",
    "        self.a = float(a)\n",
    "        \n",
    "    def evaluate(self):\n",
    "        return self.a"
   ]
  },
  {
   "cell_type": "code",
   "execution_count": 220,
   "id": "48c0f0e3-fe68-465b-9a38-579894120753",
   "metadata": {},
   "outputs": [],
   "source": [
    "class Group:\n",
    "    def __init__(self, a):\n",
    "        self.a = a\n",
    "        self.value = self.a\n",
    "        self.report = ['a']\n",
    "    \n",
    "    def evaluate(self):\n",
    "        self.value = self.a\n",
    "        return self.value"
   ]
  },
  {
   "cell_type": "markdown",
   "id": "5edf01c1-b968-4cd7-b45a-6cc43f6dab90",
   "metadata": {},
   "source": [
    "## Program"
   ]
  },
  {
   "cell_type": "code",
   "execution_count": 234,
   "id": "c1387158-335a-48da-ad69-82d89575e92f",
   "metadata": {},
   "outputs": [],
   "source": [
    "class Program:\n",
    "    def __init__(self, source):\n",
    "        self.source = source\n",
    "#         Create the root node\n",
    "        self.tree = Block(block_type='root')\n",
    "        \n",
    "#         List of characters and their corresponding type\n",
    "        self.char_sets = {\n",
    "            'numeric': string.digits + '.-',\n",
    "            'op': '!@#$%^&*/-+<>=?',\n",
    "            'syntax': '()[]{},;:=|',\n",
    "            'letter': string.ascii_lowercase\n",
    "        }\n",
    "#         List of syntactical patterns to match to generate the program's structure\n",
    "#         i.e., the grammar\n",
    "#         Patterns are listed from highest priority to lowest; a 3-parameter range (a:b:c) will be considered before a 2-parameter one (a:b)\n",
    "        self.patterns = {\n",
    "#             'range': ['numeric', ':', 'numeric']\n",
    "#             'number': [\n",
    "#                 lambda x: x[0].like('num'),\n",
    "#                 lambda x: [x[0]],\n",
    "#                 Number,\n",
    "#                 1\n",
    "#             ],\n",
    "#             3-parameter range expression; start:stop:step\n",
    "            'range1': [\n",
    "                lambda x: x[0].like('num') and x[1].s == ':' and x[2].like('num') and x[3].s == ':' and x[4].like('num'),\n",
    "                lambda x: [x[0], x[2], x[4]],\n",
    "                Range,\n",
    "                5\n",
    "            ],\n",
    "#             2-parameter range expression; start:stop (default step of 1 is used)\n",
    "            'range2': [\n",
    "#                 lambda x: [x[0].like('num') and x[1] == ':' and x[2].like('num')],\n",
    "#                 lambda x: x[0].like('num') and x[1] == ':' and x[2].like('num'),\n",
    "                lambda x: x[0].like('num') and x[1].s == ':' and x[2].like('num'),\n",
    "                lambda x: [x[0], x[2]],\n",
    "                Range,\n",
    "                3\n",
    "            ],\n",
    "#             Factorial expression; 'number!'\n",
    "            'factorial': [\n",
    "                lambda x: x[0].like('num') and x[1].s == '!',\n",
    "                lambda x: [x[0], None, x[1]],\n",
    "                Expression,\n",
    "                2\n",
    "            ],\n",
    "#             A mathematical expression using infix notation; 'a?b' or '3*5'\n",
    "            'expression': [\n",
    "                lambda x: x[0].like('num') and x[1].like('op') and x[2].like('num'),\n",
    "                lambda x: [x[0], x[2], x[1]],\n",
    "                Expression,\n",
    "                3\n",
    "            ],\n",
    "            'group1': [\n",
    "                lambda x: x[0].s == '[' and x[2].s == ']',\n",
    "                lambda x: [x[1]],\n",
    "                Group,\n",
    "                3\n",
    "            ],\n",
    "        }\n",
    "        \n",
    "#         Run the lexer and parser\n",
    "        self.lex()\n",
    "        self.parse(self.tree)\n",
    "        self.graph = None\n",
    "    \n",
    "    def traverse(self, block, callback):\n",
    "        callback(block)\n",
    "        for b in block.children:\n",
    "            callback(b)\n",
    "            if b.children:\n",
    "                self.traverse(b, callback)\n",
    "#             else:\n",
    "#                 callback(b)\n",
    "#                 return b\n",
    "    \n",
    "    def visualize(self):\n",
    "#         Create a NetworkX graph representing the parse tree\n",
    "#         self.graph = nx.DiGraph()\n",
    "        self.graph = Network(width=800, height=800, notebook=True, directed=True)\n",
    "#         Add nodes and edges for each block/relationship in the tree\n",
    "        font = {'align': 'middle'}\n",
    "        self.traverse(self.tree, lambda x: self.graph.add_node(x.id, label=(x.source if len(x.source) < 50 else ' '), font=font, shape='circle'))\n",
    "        self.traverse(self.tree, lambda x: self.graph.add_edges([(x.id, y.id) for y in x.children]))\n",
    "#         Generate and display the visualization\n",
    "#         self.vis = Network(width=800, height=800, notebook=True)\n",
    "        self.vis = self.graph\n",
    "        self.vis.show_buttons()\n",
    "#         self.vis.from_nx(self.graph)\n",
    "        result = self.vis.show('parse_tree_visualization.html')\n",
    "        return result\n",
    "    \n",
    "    def match_types(x, y):\n",
    "        return all(xi.like(y[i]) for i, xi in enumerate(x))\n",
    "    \n",
    "    def char_type(self, x):\n",
    "#         return list(filter(lambda x: k for k, v in self.char_sets if x in v))[0]\n",
    "        return [k for k, v in self.char_sets.items() if x in v][0]\n",
    "    \n",
    "    def lex(self):\n",
    "#         Both newlines and pipes, |, separate statements\n",
    "        statements = self.source.replace('|', '\\n').split('\\n')\n",
    "#         Remove empty lines\n",
    "        statements = list(filter(None, statements))\n",
    "#         Loop through lines in program\n",
    "        for s in statements:\n",
    "#             print(s)\n",
    "            statement_parse = Block(block_type='section', source=s)\n",
    "            token = Token(string=s[0], token_type=self.char_type(s[0]))\n",
    "            for c in s[1:]:\n",
    "                c_type = self.char_type(c)\n",
    "#                 If character matches the type of the current token, append it\n",
    "                if c_type == token.token_type:\n",
    "                    token += c\n",
    "#                 Otherwise, store the token and start a new one\n",
    "                else:\n",
    "                    statement_parse.add(token)\n",
    "#                     print(token.string)\n",
    "                    token = Token(c, token_type=c_type)\n",
    "            statement_parse.add(token)\n",
    "#             Add the parse for this line to the tree (top level)\n",
    "            self.tree.add(statement_parse)\n",
    "    \n",
    "    def parse(self, block, level=0, max_level=5):\n",
    "        if level <= max_level:\n",
    "            for j, b in enumerate(block.children):\n",
    "                self.parse(b, level=level+1, max_level=max_level)\n",
    "#             i = 0\n",
    "    #         Loop through stored patterns\n",
    "            for k, v in self.patterns.items():\n",
    "#                 Separate pattern list into the matching rule, resulting block, type of new block to be constructed, and number of terms in the expression\n",
    "                pattern, result, block_type, num = v\n",
    "                for i in range(len(block.children)):\n",
    "        #             num = 3\n",
    "                    section = block[i:i+num]\n",
    "        #             r = lambda x: x[0].like('num') and x[1] == ':' and x[2].like('num')\n",
    "        #             Check that section has at least enough terms to evaluate the rule (e.g., '3 + 4' has 3 terms)\n",
    "                    if len(section) >= num:\n",
    "        #                 print(list(map(str, section)), pattern(section), section[1].like('num'))\n",
    "                        if pattern(section):\n",
    "        #                     print(True, list(map(str, block[i:i+num])))\n",
    "        #                     block[i:i+num] = Block(section, parser=block_type, r=result, block_type='numeric')\n",
    "        #                     Replace sub-blocks or tokens with a single block\n",
    "                            block[i:i+num] = [Block(section, parser=block_type, r=result, block_type='numeric')]\n",
    "        #                     Update the block in case any more rules are applicable\n",
    "                            self.parse(block, level=level+1, max_level=max_level)\n",
    "                            break\n",
    "        #                 use has_tokens?\n",
    "                    \n",
    "    def execute(self, node=None, print_output=True, display_source=True, **kwargs):\n",
    "#         Default node is the root node\n",
    "        if not node:\n",
    "            node = self.tree\n",
    "        \n",
    "#         Loop through nodes in tree\n",
    "#         for b in node:\n",
    "        for b in node.children:\n",
    "            if b.parser in [Range, Expression, Group]:\n",
    "                b.parsed.evaluate()\n",
    "                \n",
    "                #                 print(b[0].source)\n",
    "#                 if b.parser in [Expression]:\n",
    "#                 if b.parsed:\n",
    "#                 print(b.source)\n",
    "                if print_output:\n",
    "                    if display_source and b.source:\n",
    "                        display_string = b.source + ' -> ' + str(b.parsed.value)\n",
    "                    else:\n",
    "                        display_string = b.parsed.value\n",
    "                    print(display_string)\n",
    "            elif type(b) is Token:\n",
    "                if print_output:\n",
    "                    if display_source and b.source:\n",
    "                        display_string = b.source + ' -> ' + str(b.evaluate())\n",
    "                    else:\n",
    "                        display_string = b.evaluate()\n",
    "                    print(display_string)\n",
    "#             Recursively execute subnodes\n",
    "            else:\n",
    "#                 for v in b:\n",
    "#                     self.execute()\n",
    "                self.execute(node=b, print_output=print_output, **kwargs)\n",
    "    \n",
    "\n",
    "                    \n",
    "    def print_tree(self):\n",
    "        print('\\n')\n",
    "        self.tree.print()\n",
    "    "
   ]
  },
  {
   "cell_type": "markdown",
   "id": "568867bf-1d7e-4a09-a97e-5a5a41115442",
   "metadata": {},
   "source": [
    "## Testing"
   ]
  },
  {
   "cell_type": "markdown",
   "id": "2eccc5fc-eb0d-41ca-8076-761178ccd402",
   "metadata": {},
   "source": [
    "### Automated"
   ]
  },
  {
   "cell_type": "code",
   "execution_count": 222,
   "id": "65644291-36be-4174-bf30-66a2cb69bcb1",
   "metadata": {},
   "outputs": [
    {
     "name": "stdout",
     "output_type": "stream",
     "text": [
      "801 of 882 tests (90.82%) were successful (81/9.18% failed)\n"
     ]
    }
   ],
   "source": [
    "class Test:\n",
    "    def __init__(self, test_args):\n",
    "        self.test_args = test_args\n",
    "        self.num = 0\n",
    "        self.successful = 0\n",
    "        \n",
    "    def run(self, show=True):\n",
    "        for test in itertools.product(*self.test_args):\n",
    "            test_string = ''.join(map(str, test))\n",
    "            try:\n",
    "                test_program = Program(test_string)\n",
    "                result = test_program.execute(print_output=False)\n",
    "                self.successful += 1\n",
    "            except Exception as ex:\n",
    "                result = ex\n",
    "            \n",
    "            if show:\n",
    "                print('Test line \"{}\"; result: {}'.format(test_string, result))\n",
    "            self.num += 1\n",
    "        s, n = self.successful, self.num\n",
    "        print('{} of {} tests ({}%) were successful ({}/{}% failed)'.format(s, n, round(s/n*100, 2), n-s, round((1-s/n)*100, 2)))\n",
    "\n",
    "possible_ops = list('+-/*%^<>:&|') + ['**', '^^', '<=', '>=', '==', '!=', '//']\n",
    "g = [0, 0.2, 0.5, 1, 22, 333, -5]\n",
    "t = Test([g, possible_ops, g])\n",
    "t.run(show=False)"
   ]
  },
  {
   "cell_type": "markdown",
   "id": "061ded65-a6e2-4e5c-b67b-b337d56d549d",
   "metadata": {},
   "source": [
    "### Manual"
   ]
  },
  {
   "cell_type": "code",
   "execution_count": 238,
   "id": "adae09a4-36bd-4c80-8481-2ffb4341045d",
   "metadata": {},
   "outputs": [
    {
     "name": "stdout",
     "output_type": "stream",
     "text": [
      "7 -> 7\n",
      "? -> ?\n",
      "2 -> 2\n",
      "? -> ?\n",
      "[5] -> 5.0\n",
      "1:10%2==1 -> [True, False, True, False, True, False, True, False, True, False]\n",
      "6:16:.5 -> [6.0, 6.5, 7.0, 7.5, 8.0, 8.5, 9.0, 9.5, 10.0, 10.5, 11.0, 11.5, 12.0, 12.5, 13.0, 13.5, 14.0, 14.5, 15.0, 15.5, 16.0]\n",
      "8==7 -> False\n",
      "5!=3 -> True\n",
      "5! -> 120\n",
      "8>5 -> True\n",
      "9<=3 -> False\n",
      "51%13 -> 12.0\n",
      "25%3 -> 1.0\n",
      "3**3**3 -> 19683.0\n",
      "3^3^3 -> 19683.0\n",
      "3:10**2 -> [9.0, 16.0, 25.0, 36.0, 49.0, 64.0, 81.0, 100.0]\n",
      "5:30 -> [5.0, 6.0, 7.0, 8.0, 9.0, 10.0, 11.0, 12.0, 13.0, 14.0, 15.0, 16.0, 17.0, 18.0, 19.0, 20.0, 21.0, 22.0, 23.0, 24.0, 25.0, 26.0, 27.0, 28.0, 29.0, 30.0]\n",
      "1:15**3 -> [1.0, 8.0, 27.0, 64.0, 125.0, 216.0, 343.0, 512.0, 729.0, 1000.0, 1331.0, 1728.0, 2197.0, 2744.0, 3375.0]\n",
      "1:10*9 -> [9.0, 18.0, 27.0, 36.0, 45.0, 54.0, 63.0, 72.0, 81.0, 90.0]\n",
      "3:30:3 -> [3.0, 6.0, 9.0, 12.0, 15.0, 18.0, 21.0, 24.0, 27.0, 30.0]\n",
      "20:0:-1 -> [20.0, 19.0, 18.0, 17.0, 16.0, 15.0, 14.0, 13.0, 12.0, 11.0, 10.0, 9.0, 8.0, 7.0, 6.0, 5.0, 4.0, 3.0, 2.0, 1.0, 0.0]\n",
      "1+2+3 -> 6.0\n",
      "8*9+2 -> 74.0\n",
      "5+10 -> 15.0\n",
      "8*3 -> 24.0\n",
      "20/4 -> 5.0\n",
      "932//7 -> 133.0\n",
      "5+8.3 -> 13.3\n",
      "2**8 -> 256.0\n",
      "2^8 -> 256.0\n",
      "2^^3 -> 65536.0\n"
     ]
    },
    {
     "name": "stderr",
     "output_type": "stream",
     "text": [
      "<ipython-input-212-51be1cbeac30>:33: DeprecationWarning: Using factorial() with floats is deprecated\n",
      "  self.value = op_name(self.a) if self.op in '!' else op_name(self.a, self.b)\n"
     ]
    },
    {
     "data": {
      "text/html": [
       "\n",
       "        <iframe\n",
       "            width=\"800\"\n",
       "            height=\"800\"\n",
       "            src=\"parse_tree_visualization.html\"\n",
       "            frameborder=\"0\"\n",
       "            allowfullscreen\n",
       "        ></iframe>\n",
       "        "
      ],
      "text/plain": [
       "<IPython.lib.display.IFrame at 0x2b28969b790>"
      ]
     },
     "execution_count": 238,
     "metadata": {},
     "output_type": "execute_result"
    }
   ],
   "source": [
    "tests = \"\"\"\n",
    "7\n",
    "?2?\n",
    "[5]\n",
    "1:10%2==1\n",
    "6:16:.5\n",
    "8==7\n",
    "5!=3\n",
    "5!\n",
    "8>5\n",
    "9<=3\n",
    "51%13\n",
    "25%3\n",
    "3**3**3\n",
    "3^3^3\n",
    "3:10**2\n",
    "5:30\n",
    "1:15**3\n",
    "1:10*9\n",
    "3:30:3\n",
    "20:0:-1\n",
    "1+2+3\n",
    "8*9+2\n",
    "5+10\n",
    "8*3\n",
    "20/4\n",
    "932//7\n",
    "5+8.3\n",
    "2**8\n",
    "2^8\n",
    "2^^3\n",
    "\"\"\"\n",
    "\n",
    "M = Program(tests)\n",
    "M.execute()\n",
    "M.visualize()\n",
    "# M.print_tree()\n",
    "\n",
    "# vars(M.tree[0].parsed)\n",
    "\n",
    "\n",
    "# M.tree[0].components[1].like('op')\n",
    "# M.tree[-1].parser#.components[1].token_type\n",
    "# store statement and result for each line (?)"
   ]
  },
  {
   "cell_type": "code",
   "execution_count": 174,
   "id": "2d6a915b-b2d0-40f1-b549-081815c69ae9",
   "metadata": {},
   "outputs": [
    {
     "data": {
      "text/plain": [
       "[<__main__.Token at 0x2b289549d30>,\n",
       " <__main__.Token at 0x2b289549760>,\n",
       " <__main__.Token at 0x2b289549d90>]"
      ]
     },
     "execution_count": 174,
     "metadata": {},
     "output_type": "execute_result"
    }
   ],
   "source": [
    "M.tree[1].c"
   ]
  },
  {
   "cell_type": "code",
   "execution_count": 190,
   "id": "9f85afcc-e98c-4eb7-aae1-84e4316183ec",
   "metadata": {},
   "outputs": [
    {
     "data": {
      "text/plain": [
       "[('6:16:.5', __main__.Range, '')]"
      ]
     },
     "execution_count": 190,
     "metadata": {},
     "output_type": "execute_result"
    }
   ],
   "source": [
    "[(a.source, a.parser, a.string) for a in M.tree.c[4][0][0]]\n",
    "# M.tree[0]"
   ]
  },
  {
   "cell_type": "code",
   "execution_count": 76,
   "id": "b3efb22d-a67a-4d8b-989d-aecb935ad2dd",
   "metadata": {},
   "outputs": [
    {
     "data": {
      "text/plain": [
       "[<__main__.Block at 0x2b2893d8790>]"
      ]
     },
     "execution_count": 76,
     "metadata": {},
     "output_type": "execute_result"
    }
   ],
   "source": [
    "M.tree[2][0].c"
   ]
  },
  {
   "cell_type": "code",
   "execution_count": 13,
   "id": "ad6df155-f46a-47d4-aa0c-66c02ad6b818",
   "metadata": {},
   "outputs": [
    {
     "data": {
      "text/plain": [
       "[20, 19, 18, 17, 16, 15, 14, 13, 12, 11, 10, 9, 8, 7, 6, 5, 4, 3, 2, 1]"
      ]
     },
     "execution_count": 13,
     "metadata": {},
     "output_type": "execute_result"
    }
   ],
   "source": [
    "list(range(20, 0, -1))"
   ]
  },
  {
   "cell_type": "code",
   "execution_count": 176,
   "id": "397dc0f4-1ef5-4d65-bed6-3bba980eb197",
   "metadata": {},
   "outputs": [],
   "source": [
    "# M.__dict__\n",
    "# M.tree[0][1].type"
   ]
  },
  {
   "cell_type": "code",
   "execution_count": null,
   "id": "01a4d32e-4031-4cae-8b5b-020e3746cec4",
   "metadata": {},
   "outputs": [],
   "source": [
    "bool([False])\n",
    "f = [3, 7, 2, 1, 8]\n",
    "f[0:3]"
   ]
  }
 ],
 "metadata": {
  "kernelspec": {
   "display_name": "Python 3",
   "language": "python",
   "name": "python3"
  },
  "language_info": {
   "codemirror_mode": {
    "name": "ipython",
    "version": 3
   },
   "file_extension": ".py",
   "mimetype": "text/x-python",
   "name": "python",
   "nbconvert_exporter": "python",
   "pygments_lexer": "ipython3",
   "version": "3.9.4"
  },
  "toc-autonumbering": true,
  "toc-showcode": false
 },
 "nbformat": 4,
 "nbformat_minor": 5
}
