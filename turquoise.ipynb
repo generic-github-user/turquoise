{
 "cells": [
  {
   "cell_type": "code",
   "execution_count": 2,
   "id": "5464d712-5a0d-4244-94f5-6ef5e9f96d24",
   "metadata": {},
   "outputs": [],
   "source": [
    "import math\n",
    "import string\n",
    "\n",
    "tests = \"\"\"\n",
    "\n",
    "\"\"\"\n",
    "\n",
    "class Program:\n",
    "    def __init__(self, source):\n",
    "        self.source = source\n",
    "        \n",
    "M = Program(tests)"
   ]
  }
 ],
 "metadata": {
  "kernelspec": {
   "display_name": "Python 3",
   "language": "python",
   "name": "python3"
  },
  "language_info": {
   "codemirror_mode": {
    "name": "ipython",
    "version": 3
   },
   "file_extension": ".py",
   "mimetype": "text/x-python",
   "name": "python",
   "nbconvert_exporter": "python",
   "pygments_lexer": "ipython3",
   "version": "3.9.4"
  }
 },
 "nbformat": 4,
 "nbformat_minor": 5
}
