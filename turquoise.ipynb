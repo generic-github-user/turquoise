{
 "cells": [
  {
   "cell_type": "code",
   "execution_count": 7,
   "id": "46371df8-fc78-4052-a599-01217490ec21",
   "metadata": {},
   "outputs": [],
   "source": [
    "import math\n",
    "import string\n",
    "import operator as ops\n",
    "\n",
    "tests = \"\"\"\n",
    "3:10\n",
    "5:30\n",
    "5+10\n",
    "8*3\n",
    "20/4\n",
    "932//7\n",
    "5+8.3\n",
    "2**8\n",
    "2^8\n",
    "2^^3\n",
    "\"\"\""
   ]
  },
  {
   "cell_type": "code",
   "execution_count": 3,
   "id": "1e81b9c0-9be7-4a7e-b0b3-0890a5608c97",
   "metadata": {},
   "outputs": [],
   "source": [
    "class Range:\n",
    "    def __init__(self, start, stop=1, step=1):\n",
    "        self.start = start\n",
    "        self.stop = stop\n",
    "        self.step = step\n",
    "        self.value = None\n",
    "        self.report = ['start', 'stop', 'step']\n",
    "        \n",
    "    def evaluate(self):\n",
    "        self.value = list(range(self.start, self.stop+1, self.step))\n",
    "        self.value = Array(self.value)\n",
    "        return self.value"
   ]
  },
  {
   "cell_type": "code",
   "execution_count": 4,
   "id": "550e4597-6b5e-455a-b42d-e82c4f24e6bd",
   "metadata": {},
   "outputs": [
    {
     "data": {
      "text/plain": [
       "65536"
      ]
     },
     "execution_count": 4,
     "metadata": {},
     "output_type": "execute_result"
    }
   ],
   "source": [
    "def tetration(n, m):\n",
    "    r = n\n",
    "    for i in range(m):\n",
    "        r = n ** r\n",
    "    return r\n",
    "\n",
    "tetration(2, 3)"
   ]
  },
  {
   "cell_type": "code",
   "execution_count": 5,
   "id": "e4f106a3-5c99-4cc7-a5bc-512504588629",
   "metadata": {},
   "outputs": [],
   "source": [
    "class Expression:\n",
    "    def __init__(self, a, b, op):\n",
    "        self.a = a\n",
    "        self.b = b\n",
    "        self.op = op\n",
    "        self.op_list = {\n",
    "            '+': ops.add,\n",
    "            '*': ops.mul,\n",
    "            '-': ops.sub,\n",
    "            '/': ops.truediv,\n",
    "            '//': ops.floordiv,\n",
    "            '**': ops.pow,\n",
    "            '^': ops.pow,\n",
    "            '^^': tetration,\n",
    "        }\n",
    "        self.report = ['a', 'b']\n",
    "        \n",
    "    def evaluate(self):\n",
    "        op_name = self.op_list[self.op]\n",
    "        self.value = op_name(self.a, self.b)\n",
    "        return self.value"
   ]
  },
  {
   "cell_type": "code",
   "execution_count": 6,
   "id": "7315c5c5-d9ed-4135-abc1-82b7d41c55cb",
   "metadata": {},
   "outputs": [],
   "source": [
    "class Token:\n",
    "    def __init__(self, string='', token_type=None):\n",
    "        self.string = string\n",
    "        self.token_type = self.type = token_type\n",
    "        \n",
    "    def like(self, test):\n",
    "        return self.token_type == test or self.token_type.startswith(test)"
   ]
  },
  {
   "cell_type": "code",
   "execution_count": 8,
   "id": "294b8451-44cf-41df-97c6-94c1f036520f",
   "metadata": {},
   "outputs": [],
   "source": [
    "class Array:\n",
    "    def __init__(self, terms):\n",
    "        self.data = []\n",
    "        for t in terms:\n",
    "            if type(t) is list:\n",
    "                self.data.append(array(t))\n",
    "            else:\n",
    "                if t not in list(',;'):\n",
    "                    self.data.append(t)\n",
    "                    \n",
    "    def __str__(self):\n",
    "        items = ', '.join(map(str, self.data))\n",
    "        items = '['+items+']'\n",
    "        return items"
   ]
  },
  {
   "cell_type": "code",
   "execution_count": 9,
   "id": "6aee6a18-175b-4f8d-b539-93cf67233d2e",
   "metadata": {},
   "outputs": [],
   "source": [
    "class Block:\n",
    "    def __init__(self, components=None, parsed=None, parser=None, r=None):\n",
    "        self.components = components\n",
    "        self.parser = parser\n",
    "        self.children = []\n",
    "        \n",
    "        self.parsed = None\n",
    "        if self.components:\n",
    "            comp_vals = []\n",
    "            for q in self.components:\n",
    "                if type(q) is Token:\n",
    "                    q = q.string\n",
    "                if q.isnumeric():\n",
    "                    q = int(q)\n",
    "                comp_vals.append(q)\n",
    "            self.parsed = parser(*r(comp_vals))\n",
    "            \n",
    "    def add(self, x):\n",
    "        self.children.append(x)\n",
    "        \n",
    "    def print(self, level=0):\n",
    "        indent = ' '*2*level\n",
    "        print(indent + str(self) + '; ' + type(self.parsed).__name__)\n",
    "        for c in self.children:\n",
    "            c.print(level=level+1)\n",
    "#         for k, v in vars(self.parser).items():\n",
    "#             print('{}{}:{}'.format(indent, k, v))\n",
    "        if self.parsed:\n",
    "            for k in self.parsed.report:\n",
    "                v = getattr(self.parsed, k)\n",
    "                print('{}{}:{}'.format(indent, k, str(v)))\n",
    "        \n",
    "    def __getitem__(self, i):\n",
    "        return self.children[i]"
   ]
  },
  {
   "cell_type": "code",
   "execution_count": 10,
   "id": "8d545042-b2d3-46fc-9da8-899ba4a39c79",
   "metadata": {},
   "outputs": [
    {
     "name": "stdout",
     "output_type": "stream",
     "text": [
      "[3, 4, 5, 6, 7, 8, 9, 10]\n",
      "[5, 6, 7, 8, 9, 10, 11, 12, 13, 14, 15, 16, 17, 18, 19, 20, 21, 22, 23, 24, 25, 26, 27, 28, 29, 30]\n",
      "15\n",
      "24\n",
      "5.0\n",
      "133\n",
      "13\n",
      "256\n",
      "256\n",
      "65536\n",
      "<__main__.Block object at 0x000001BDBADC1550>; NoneType\n",
      "  <__main__.Block object at 0x000001BDBAE08C40>; Range\n",
      "  start:3\n",
      "  stop:10\n",
      "  step:1\n",
      "  <__main__.Block object at 0x000001BDBAD77E50>; Range\n",
      "  start:5\n",
      "  stop:30\n",
      "  step:1\n",
      "  <__main__.Block object at 0x000001BDBAD88730>; Expression\n",
      "  a:5\n",
      "  b:10\n",
      "  <__main__.Block object at 0x000001BDBAD88F40>; Expression\n",
      "  a:8\n",
      "  b:3\n",
      "  <__main__.Block object at 0x000001BDBAD88850>; Expression\n",
      "  a:20\n",
      "  b:4\n",
      "  <__main__.Block object at 0x000001BDBAD88EE0>; Expression\n",
      "  a:932\n",
      "  b:7\n",
      "  <__main__.Block object at 0x000001BDBAD88FA0>; Expression\n",
      "  a:5\n",
      "  b:8\n",
      "  <__main__.Block object at 0x000001BDBAD88F70>; Expression\n",
      "  a:2\n",
      "  b:8\n",
      "  <__main__.Block object at 0x000001BDBAD7E760>; Expression\n",
      "  a:2\n",
      "  b:8\n",
      "  <__main__.Block object at 0x000001BDBAD7E340>; Expression\n",
      "  a:2\n",
      "  b:3\n"
     ]
    }
   ],
   "source": [
    "class Program:\n",
    "    def __init__(self, source):\n",
    "        self.source = source\n",
    "#         Create the root node\n",
    "        self.tree = Block()\n",
    "        \n",
    "#         List of characters and their corresponding type\n",
    "        self.char_sets = {\n",
    "            'op': '!@#$%^&*/-+<>',\n",
    "            'syntax': '()[]{},.;:=|',\n",
    "            'letter': string.ascii_lowercase,\n",
    "            'numeric': string.digits + '.-'\n",
    "        }\n",
    "#         List of syntactical patterns to match to generate the program's structure\n",
    "#         i.e., the grammar\n",
    "        self.patterns = {\n",
    "#             'range': ['numeric', ':', 'numeric']\n",
    "            'range': [\n",
    "                lambda x: [x[0].like('num') and x[1] == ':' and x[2].like('num')],\n",
    "                lambda x: [x[0], x[2]],\n",
    "                Range\n",
    "            ],\n",
    "            'expression': [\n",
    "                lambda x: x[1].like('op'),\n",
    "                lambda x: [x[0], x[2], x[1]],\n",
    "                Expression\n",
    "            ]\n",
    "        }\n",
    "        \n",
    "        self.parse()\n",
    "        \n",
    "    def char_type(self, x):\n",
    "#         return list(filter(lambda x: k for k, v in self.char_sets if x in v))[0]\n",
    "        return [k for k, v in self.char_sets.items() if x in v][0]\n",
    "    \n",
    "    def lex(self):\n",
    "        statements = self.source.replace('|', '\\n').split('\\n')\n",
    "#         Remove empty lines\n",
    "        statements = list(filter(None, statements))\n",
    "#         Loop through lines in program\n",
    "        for s in statements:\n",
    "            statement_parse = []\n",
    "            token = Token(s[0], self.char_type(s[0]))\n",
    "            for c in s[1:]:\n",
    "                c_type = self.char_type(c)\n",
    "#                 If character matches the type of the current token, append it\n",
    "                if c_type == token.token_type:\n",
    "                    token.string += c\n",
    "#                 Otherwise, store the token and start a new one\n",
    "                else:\n",
    "                    statement_parse.append(token)\n",
    "                    token = Token(c, c_type)\n",
    "            statement_parse.append(token)\n",
    "            self.tree.add(statement_parse)\n",
    "    \n",
    "    def parse(self):\n",
    "        self.lex()\n",
    "        \n",
    "        for i, b in enumerate(self.tree.children):\n",
    "            for k, v in self.patterns.items():\n",
    "                pattern, result, block_type = v\n",
    "                if pattern(b):\n",
    "                    self.tree.children[i] = Block(b, parser=block_type, r=result)\n",
    "                    \n",
    "    def execute(self, node=None):\n",
    "#         Default node is the root node\n",
    "        if not node:\n",
    "            node = self.tree\n",
    "        \n",
    "#         Loop through nodes in tree\n",
    "        for b in node:\n",
    "            if b.parser in [Range, Expression]:\n",
    "                b.parsed.evaluate()\n",
    "                print(b.parsed.value)\n",
    "#             Recursively execute subnodes\n",
    "            else:\n",
    "#                 for v in b:\n",
    "#                     self.execute()\n",
    "               self.execute(node=b)\n",
    "                    \n",
    "    def print_tree(self):\n",
    "        self.tree.print()\n",
    "    \n",
    "        \n",
    "M = Program(tests)\n",
    "M.execute()\n",
    "vars(M.tree[0].parsed)\n",
    "M.print_tree()\n",
    "# M.tree[0].components[1].like('op')\n",
    "# M.tree[-1].parser#.components[1].token_type"
   ]
  },
  {
   "cell_type": "code",
   "execution_count": 161,
   "id": "397dc0f4-1ef5-4d65-bed6-3bba980eb197",
   "metadata": {},
   "outputs": [
    {
     "data": {
      "text/plain": [
       "{'source': '\\n3:10\\n5:30\\n5+10\\n8*3\\n20/4\\n932//7\\n',\n",
       " 'tree': <__main__.Block at 0x28a9c2ed940>,\n",
       " 'char_sets': {'op': '!@#$%^&*/-+<>',\n",
       "  'syntax': '()[]{},.;:=|',\n",
       "  'letter': 'abcdefghijklmnopqrstuvwxyz',\n",
       "  'numeric': '0123456789.-'},\n",
       " 'patterns': {'range': [<function __main__.Program.__init__.<locals>.<lambda>(x)>,\n",
       "   <function __main__.Program.__init__.<locals>.<lambda>(x)>,\n",
       "   __main__.Range],\n",
       "  'expression': [<function __main__.Program.__init__.<locals>.<lambda>(x)>,\n",
       "   <function __main__.Program.__init__.<locals>.<lambda>(x)>,\n",
       "   __main__.Expression]}}"
      ]
     },
     "execution_count": 161,
     "metadata": {},
     "output_type": "execute_result"
    }
   ],
   "source": [
    "M.__dict__"
   ]
  },
  {
   "cell_type": "code",
   "execution_count": 124,
   "id": "01a4d32e-4031-4cae-8b5b-020e3746cec4",
   "metadata": {},
   "outputs": [
    {
     "data": {
      "text/plain": [
       "True"
      ]
     },
     "execution_count": 124,
     "metadata": {},
     "output_type": "execute_result"
    }
   ],
   "source": [
    "bool([False])"
   ]
  }
 ],
 "metadata": {
  "kernelspec": {
   "display_name": "Python 3",
   "language": "python",
   "name": "python3"
  },
  "language_info": {
   "codemirror_mode": {
    "name": "ipython",
    "version": 3
   },
   "file_extension": ".py",
   "mimetype": "text/x-python",
   "name": "python",
   "nbconvert_exporter": "python",
   "pygments_lexer": "ipython3",
   "version": "3.9.4"
  }
 },
 "nbformat": 4,
 "nbformat_minor": 5
}
