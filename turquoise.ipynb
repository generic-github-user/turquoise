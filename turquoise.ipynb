{
 "cells": [
  {
   "cell_type": "code",
   "execution_count": 43,
   "id": "5464d712-5a0d-4244-94f5-6ef5e9f96d24",
   "metadata": {},
   "outputs": [
    {
     "data": {
      "text/plain": [
       "[<__main__.Token at 0x28a99dea3d0>,\n",
       " <__main__.Token at 0x28a99dea190>,\n",
       " <__main__.Token at 0x28a99deac40>]"
      ]
     },
     "execution_count": 43,
     "metadata": {},
     "output_type": "execute_result"
    }
   ],
   "source": [
    "import math\n",
    "import string\n",
    "\n",
    "tests = \"\"\"\n",
    "3:20\n",
    "\"\"\"\n",
    "\n",
    "class Range:\n",
    "    def __init__(self, start, stop, step=1):\n",
    "        self.start = start\n",
    "        self.stop = stop\n",
    "        self.step = step\n",
    "        \n",
    "    def evaluate(self):\n",
    "        return list(range(self.start, self.stop+1, self.step))\n",
    "\n",
    "class Token:\n",
    "    def __init__(self, string='', token_type=None):\n",
    "        self.string = string\n",
    "        self.token_type = token_type\n",
    "\n",
    "class Program:\n",
    "    def __init__(self, source):\n",
    "        self.source = source\n",
    "        self.tree = []\n",
    "        \n",
    "        self.char_sets = {\n",
    "            'op': '!@#$%^&*/-+<>',\n",
    "            'syntax': '()[]{},.;:=|',\n",
    "            'letter': string.ascii_lowercase,\n",
    "            'numeric': string.digits + '.'\n",
    "        }\n",
    "        \n",
    "        self.parse()\n",
    "        \n",
    "    def char_type(self, x):\n",
    "#         return list(filter(lambda x: k for k, v in self.char_sets if x in v))[0]\n",
    "        return [k for k, v in self.char_sets.items() if x in v][0]\n",
    "        \n",
    "    def parse(self):\n",
    "        statements = self.source.replace('|', '\\n').split('\\n')\n",
    "        statements = list(filter(None, statements))\n",
    "        for s in statements:\n",
    "            statement_parse = []\n",
    "            token = Token(s[0], self.char_type(s[0]))\n",
    "            for c in s[1:]:\n",
    "                c_type = self.char_type(c)\n",
    "                if c_type == token.token_type:\n",
    "                    token.string += c\n",
    "                else:\n",
    "                    statement_parse.append(token)\n",
    "                    token = Token(c, c_type)\n",
    "            statement_parse.append(token)\n",
    "            self.tree.append(statement_parse)\n",
    "        \n",
    "M = Program(tests)\n",
    "M.tree[0]"
   ]
  }
 ],
 "metadata": {
  "kernelspec": {
   "display_name": "Python 3",
   "language": "python",
   "name": "python3"
  },
  "language_info": {
   "codemirror_mode": {
    "name": "ipython",
    "version": 3
   },
   "file_extension": ".py",
   "mimetype": "text/x-python",
   "name": "python",
   "nbconvert_exporter": "python",
   "pygments_lexer": "ipython3",
   "version": "3.9.4"
  }
 },
 "nbformat": 4,
 "nbformat_minor": 5
}
